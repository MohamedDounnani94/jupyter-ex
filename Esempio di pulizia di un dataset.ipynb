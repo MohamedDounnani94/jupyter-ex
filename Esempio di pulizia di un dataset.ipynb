{
 "cells": [
  {
   "cell_type": "code",
   "execution_count": 4,
   "metadata": {},
   "outputs": [],
   "source": [
    "import pandas as pd\n",
    "import numpy as np\n",
    "import matplotlib.pyplot as plt\n",
    "%matplotlib inline"
   ]
  },
  {
   "cell_type": "code",
   "execution_count": 5,
   "metadata": {},
   "outputs": [],
   "source": [
    "students = pd.read_csv('students2.csv')"
   ]
  },
  {
   "cell_type": "code",
   "execution_count": 6,
   "metadata": {},
   "outputs": [
    {
     "name": "stdout",
     "output_type": "stream",
     "text": [
      "    ID  gender  subject  mark1  mark2  mark3       fres\n",
      "0    1      mm        1   17.0   20.0   15.0        neg\n",
      "1    2       f        2   24.0  330.0   23.0        pos\n",
      "2    3  FEMale        1   17.0   16.0    NaN          0\n",
      "3    4    male        3   27.0   23.0   21.0          1\n",
      "4    5       m        2   30.0   22.0   24.0   positive\n",
      "5    6       f        1   30.0   21.0   25.0          1\n",
      "6    7       m        2   23.0   24.0   24.0          1\n",
      "7    8       f        3   17.0    NaN   20.0          0\n",
      "8    9      ma        1   21.0   24.0   24.0          1\n",
      "9   10      ff        2   24.0   25.0   24.0        pos\n",
      "10  11       f        2  224.0   22.0   25.0        pos\n",
      "11  12       m        1   25.0   27.0   24.0          1\n",
      "12  13       f        2   24.0   24.0   25.0          1\n",
      "13  14       m        3    NaN   17.0   15.0        neg\n",
      "14  15       m        2   22.0   27.0   24.0          1\n",
      "15  16       f        1   30.0   24.0   27.0   positive\n",
      "16  17     fem        2   29.0   27.0   23.0          1\n",
      "17  18       m        3   29.0   26.0   22.0        pos\n",
      "18  19       f        1    NaN   17.0   15.0   negative\n"
     ]
    }
   ],
   "source": [
    "print(students)"
   ]
  },
  {
   "cell_type": "code",
   "execution_count": 9,
   "metadata": {},
   "outputs": [
    {
     "data": {
      "text/plain": [
       "ID           int64\n",
       "gender      object\n",
       "subject      int64\n",
       "mark1      float64\n",
       "mark2      float64\n",
       "mark3      float64\n",
       "fres        object\n",
       "dtype: object"
      ]
     },
     "execution_count": 9,
     "metadata": {},
     "output_type": "execute_result"
    }
   ],
   "source": [
    "students.dtypes"
   ]
  },
  {
   "cell_type": "code",
   "execution_count": 10,
   "metadata": {},
   "outputs": [
    {
     "data": {
      "text/plain": [
       "f         7\n",
       "m         6\n",
       "ma        1\n",
       "male      1\n",
       "mm        1\n",
       "ff        1\n",
       "fem       1\n",
       "FEMale    1\n",
       "Name: gender, dtype: int64"
      ]
     },
     "execution_count": 10,
     "metadata": {},
     "output_type": "execute_result"
    }
   ],
   "source": [
    "students.gender.value_counts()"
   ]
  },
  {
   "cell_type": "code",
   "execution_count": 11,
   "metadata": {},
   "outputs": [
    {
     "data": {
      "text/plain": [
       "30.0     3\n",
       "24.0     3\n",
       "17.0     3\n",
       "29.0     2\n",
       "NaN      2\n",
       "22.0     1\n",
       "25.0     1\n",
       "224.0    1\n",
       "21.0     1\n",
       "23.0     1\n",
       "27.0     1\n",
       "Name: mark1, dtype: int64"
      ]
     },
     "execution_count": 11,
     "metadata": {},
     "output_type": "execute_result"
    }
   ],
   "source": [
    "students.mark1.value_counts(dropna = False)"
   ]
  },
  {
   "cell_type": "code",
   "execution_count": 12,
   "metadata": {},
   "outputs": [
    {
     "data": {
      "text/html": [
       "<div>\n",
       "<style scoped>\n",
       "    .dataframe tbody tr th:only-of-type {\n",
       "        vertical-align: middle;\n",
       "    }\n",
       "\n",
       "    .dataframe tbody tr th {\n",
       "        vertical-align: top;\n",
       "    }\n",
       "\n",
       "    .dataframe thead th {\n",
       "        text-align: right;\n",
       "    }\n",
       "</style>\n",
       "<table border=\"1\" class=\"dataframe\">\n",
       "  <thead>\n",
       "    <tr style=\"text-align: right;\">\n",
       "      <th></th>\n",
       "      <th>ID</th>\n",
       "      <th>gender</th>\n",
       "      <th>subject</th>\n",
       "      <th>mark1</th>\n",
       "      <th>mark2</th>\n",
       "      <th>mark3</th>\n",
       "      <th>fres</th>\n",
       "    </tr>\n",
       "  </thead>\n",
       "  <tbody>\n",
       "    <tr>\n",
       "      <th>0</th>\n",
       "      <td>1</td>\n",
       "      <td>mm</td>\n",
       "      <td>1</td>\n",
       "      <td>17.0</td>\n",
       "      <td>20.0</td>\n",
       "      <td>15.0</td>\n",
       "      <td>neg</td>\n",
       "    </tr>\n",
       "    <tr>\n",
       "      <th>1</th>\n",
       "      <td>2</td>\n",
       "      <td>f</td>\n",
       "      <td>2</td>\n",
       "      <td>24.0</td>\n",
       "      <td>330.0</td>\n",
       "      <td>23.0</td>\n",
       "      <td>pos</td>\n",
       "    </tr>\n",
       "    <tr>\n",
       "      <th>3</th>\n",
       "      <td>4</td>\n",
       "      <td>male</td>\n",
       "      <td>3</td>\n",
       "      <td>27.0</td>\n",
       "      <td>23.0</td>\n",
       "      <td>21.0</td>\n",
       "      <td>1</td>\n",
       "    </tr>\n",
       "    <tr>\n",
       "      <th>4</th>\n",
       "      <td>5</td>\n",
       "      <td>m</td>\n",
       "      <td>2</td>\n",
       "      <td>30.0</td>\n",
       "      <td>22.0</td>\n",
       "      <td>24.0</td>\n",
       "      <td>positive</td>\n",
       "    </tr>\n",
       "    <tr>\n",
       "      <th>5</th>\n",
       "      <td>6</td>\n",
       "      <td>f</td>\n",
       "      <td>1</td>\n",
       "      <td>30.0</td>\n",
       "      <td>21.0</td>\n",
       "      <td>25.0</td>\n",
       "      <td>1</td>\n",
       "    </tr>\n",
       "    <tr>\n",
       "      <th>6</th>\n",
       "      <td>7</td>\n",
       "      <td>m</td>\n",
       "      <td>2</td>\n",
       "      <td>23.0</td>\n",
       "      <td>24.0</td>\n",
       "      <td>24.0</td>\n",
       "      <td>1</td>\n",
       "    </tr>\n",
       "    <tr>\n",
       "      <th>8</th>\n",
       "      <td>9</td>\n",
       "      <td>ma</td>\n",
       "      <td>1</td>\n",
       "      <td>21.0</td>\n",
       "      <td>24.0</td>\n",
       "      <td>24.0</td>\n",
       "      <td>1</td>\n",
       "    </tr>\n",
       "    <tr>\n",
       "      <th>9</th>\n",
       "      <td>10</td>\n",
       "      <td>ff</td>\n",
       "      <td>2</td>\n",
       "      <td>24.0</td>\n",
       "      <td>25.0</td>\n",
       "      <td>24.0</td>\n",
       "      <td>pos</td>\n",
       "    </tr>\n",
       "    <tr>\n",
       "      <th>10</th>\n",
       "      <td>11</td>\n",
       "      <td>f</td>\n",
       "      <td>2</td>\n",
       "      <td>224.0</td>\n",
       "      <td>22.0</td>\n",
       "      <td>25.0</td>\n",
       "      <td>pos</td>\n",
       "    </tr>\n",
       "    <tr>\n",
       "      <th>11</th>\n",
       "      <td>12</td>\n",
       "      <td>m</td>\n",
       "      <td>1</td>\n",
       "      <td>25.0</td>\n",
       "      <td>27.0</td>\n",
       "      <td>24.0</td>\n",
       "      <td>1</td>\n",
       "    </tr>\n",
       "    <tr>\n",
       "      <th>12</th>\n",
       "      <td>13</td>\n",
       "      <td>f</td>\n",
       "      <td>2</td>\n",
       "      <td>24.0</td>\n",
       "      <td>24.0</td>\n",
       "      <td>25.0</td>\n",
       "      <td>1</td>\n",
       "    </tr>\n",
       "    <tr>\n",
       "      <th>14</th>\n",
       "      <td>15</td>\n",
       "      <td>m</td>\n",
       "      <td>2</td>\n",
       "      <td>22.0</td>\n",
       "      <td>27.0</td>\n",
       "      <td>24.0</td>\n",
       "      <td>1</td>\n",
       "    </tr>\n",
       "    <tr>\n",
       "      <th>15</th>\n",
       "      <td>16</td>\n",
       "      <td>f</td>\n",
       "      <td>1</td>\n",
       "      <td>30.0</td>\n",
       "      <td>24.0</td>\n",
       "      <td>27.0</td>\n",
       "      <td>positive</td>\n",
       "    </tr>\n",
       "    <tr>\n",
       "      <th>16</th>\n",
       "      <td>17</td>\n",
       "      <td>fem</td>\n",
       "      <td>2</td>\n",
       "      <td>29.0</td>\n",
       "      <td>27.0</td>\n",
       "      <td>23.0</td>\n",
       "      <td>1</td>\n",
       "    </tr>\n",
       "    <tr>\n",
       "      <th>17</th>\n",
       "      <td>18</td>\n",
       "      <td>m</td>\n",
       "      <td>3</td>\n",
       "      <td>29.0</td>\n",
       "      <td>26.0</td>\n",
       "      <td>22.0</td>\n",
       "      <td>pos</td>\n",
       "    </tr>\n",
       "  </tbody>\n",
       "</table>\n",
       "</div>"
      ],
      "text/plain": [
       "    ID gender  subject  mark1  mark2  mark3       fres\n",
       "0    1     mm        1   17.0   20.0   15.0        neg\n",
       "1    2      f        2   24.0  330.0   23.0        pos\n",
       "3    4   male        3   27.0   23.0   21.0          1\n",
       "4    5      m        2   30.0   22.0   24.0   positive\n",
       "5    6      f        1   30.0   21.0   25.0          1\n",
       "6    7      m        2   23.0   24.0   24.0          1\n",
       "8    9     ma        1   21.0   24.0   24.0          1\n",
       "9   10     ff        2   24.0   25.0   24.0        pos\n",
       "10  11      f        2  224.0   22.0   25.0        pos\n",
       "11  12      m        1   25.0   27.0   24.0          1\n",
       "12  13      f        2   24.0   24.0   25.0          1\n",
       "14  15      m        2   22.0   27.0   24.0          1\n",
       "15  16      f        1   30.0   24.0   27.0   positive\n",
       "16  17    fem        2   29.0   27.0   23.0          1\n",
       "17  18      m        3   29.0   26.0   22.0        pos"
      ]
     },
     "execution_count": 12,
     "metadata": {},
     "output_type": "execute_result"
    }
   ],
   "source": [
    "students.dropna()"
   ]
  },
  {
   "cell_type": "code",
   "execution_count": 13,
   "metadata": {},
   "outputs": [
    {
     "data": {
      "text/plain": [
       "<matplotlib.axes._subplots.AxesSubplot at 0x7fab22cb4b00>"
      ]
     },
     "execution_count": 13,
     "metadata": {},
     "output_type": "execute_result"
    },
    {
     "data": {
      "image/png": "[encoded data removed]",
      "text/plain": [
       "<Figure size 432x288 with 1 Axes>"
      ]
     },
     "metadata": {
      "needs_background": "light"
     },
     "output_type": "display_data"
    }
   ],
   "source": [
    "students.boxplot()"
   ]
  },
  {
   "cell_type": "code",
   "execution_count": 14,
   "metadata": {},
   "outputs": [],
   "source": [
    "students.replace([224], [24], inplace = True)"
   ]
  },
  {
   "cell_type": "code",
   "execution_count": 15,
   "metadata": {},
   "outputs": [],
   "source": [
    "students.replace([330], [30], inplace = True)"
   ]
  },
  {
   "cell_type": "code",
   "execution_count": 16,
   "metadata": {},
   "outputs": [
    {
     "name": "stdout",
     "output_type": "stream",
     "text": [
      "    ID  gender  subject  mark1  mark2  mark3       fres\n",
      "0    1      mm        1   17.0   20.0   15.0        neg\n",
      "1    2       f        2   24.0   30.0   23.0        pos\n",
      "2    3  FEMale        1   17.0   16.0    NaN          0\n",
      "3    4    male        3   27.0   23.0   21.0          1\n",
      "4    5       m        2   30.0   22.0   24.0   positive\n",
      "5    6       f        1   30.0   21.0   25.0          1\n",
      "6    7       m        2   23.0   24.0   24.0          1\n",
      "7    8       f        3   17.0    NaN   20.0          0\n",
      "8    9      ma        1   21.0   24.0   24.0          1\n",
      "9   10      ff        2   24.0   25.0   24.0        pos\n",
      "10  11       f        2   24.0   22.0   25.0        pos\n",
      "11  12       m        1   25.0   27.0   24.0          1\n",
      "12  13       f        2   24.0   24.0   25.0          1\n",
      "13  14       m        3    NaN   17.0   15.0        neg\n",
      "14  15       m        2   22.0   27.0   24.0          1\n",
      "15  16       f        1   30.0   24.0   27.0   positive\n",
      "16  17     fem        2   29.0   27.0   23.0          1\n",
      "17  18       m        3   29.0   26.0   22.0        pos\n",
      "18  19       f        1    NaN   17.0   15.0   negative\n"
     ]
    }
   ],
   "source": [
    "print(students)"
   ]
  },
  {
   "cell_type": "code",
   "execution_count": 20,
   "metadata": {},
   "outputs": [],
   "source": [
    "students['mark1'].fillna(students['mark1'].mean(), inplace = True)"
   ]
  },
  {
   "cell_type": "code",
   "execution_count": 22,
   "metadata": {},
   "outputs": [],
   "source": [
    "students['mark2'].fillna(students['mark2'].mean(), inplace = True)\n",
    "students['mark3'].fillna(students['mark3'].mean(), inplace = True)"
   ]
  },
  {
   "cell_type": "code",
   "execution_count": 23,
   "metadata": {},
   "outputs": [
    {
     "name": "stdout",
     "output_type": "stream",
     "text": [
      "    ID  gender  subject      mark1      mark2      mark3       fres\n",
      "0    1      mm        1  17.000000  20.000000  15.000000        neg\n",
      "1    2       f        2  24.000000  30.000000  23.000000        pos\n",
      "2    3  FEMale        1  17.000000  16.000000  22.222222          0\n",
      "3    4    male        3  27.000000  23.000000  21.000000          1\n",
      "4    5       m        2  30.000000  22.000000  24.000000   positive\n",
      "5    6       f        1  30.000000  21.000000  25.000000          1\n",
      "6    7       m        2  23.000000  24.000000  24.000000          1\n",
      "7    8       f        3  17.000000  23.111111  20.000000          0\n",
      "8    9      ma        1  21.000000  24.000000  24.000000          1\n",
      "9   10      ff        2  24.000000  25.000000  24.000000        pos\n",
      "10  11       f        2  24.000000  22.000000  25.000000        pos\n",
      "11  12       m        1  25.000000  27.000000  24.000000          1\n",
      "12  13       f        2  24.000000  24.000000  25.000000          1\n",
      "13  14       m        3  24.294118  17.000000  15.000000        neg\n",
      "14  15       m        2  22.000000  27.000000  24.000000          1\n",
      "15  16       f        1  30.000000  24.000000  27.000000   positive\n",
      "16  17     fem        2  29.000000  27.000000  23.000000          1\n",
      "17  18       m        3  29.000000  26.000000  22.000000        pos\n",
      "18  19       f        1  24.294118  17.000000  15.000000   negative\n"
     ]
    }
   ],
   "source": [
    "print(students)"
   ]
  },
  {
   "cell_type": "code",
   "execution_count": 26,
   "metadata": {},
   "outputs": [],
   "source": [
    "def normalize_gender(gender):\n",
    "    if(gender == 'm' or gender == 'male' or gender == 'ma' or gender == 'mm'):\n",
    "        return 0\n",
    "    else:\n",
    "        return 1"
   ]
  },
  {
   "cell_type": "code",
   "execution_count": 28,
   "metadata": {},
   "outputs": [],
   "source": [
    "students['new_gender'] = students.gender.apply(normalize_gender)"
   ]
  },
  {
   "cell_type": "code",
   "execution_count": 29,
   "metadata": {},
   "outputs": [
    {
     "name": "stdout",
     "output_type": "stream",
     "text": [
      "    ID  gender  subject      mark1      mark2      mark3       fres  \\\n",
      "0    1      mm        1  17.000000  20.000000  15.000000        neg   \n",
      "1    2       f        2  24.000000  30.000000  23.000000        pos   \n",
      "2    3  FEMale        1  17.000000  16.000000  22.222222          0   \n",
      "3    4    male        3  27.000000  23.000000  21.000000          1   \n",
      "4    5       m        2  30.000000  22.000000  24.000000   positive   \n",
      "5    6       f        1  30.000000  21.000000  25.000000          1   \n",
      "6    7       m        2  23.000000  24.000000  24.000000          1   \n",
      "7    8       f        3  17.000000  23.111111  20.000000          0   \n",
      "8    9      ma        1  21.000000  24.000000  24.000000          1   \n",
      "9   10      ff        2  24.000000  25.000000  24.000000        pos   \n",
      "10  11       f        2  24.000000  22.000000  25.000000        pos   \n",
      "11  12       m        1  25.000000  27.000000  24.000000          1   \n",
      "12  13       f        2  24.000000  24.000000  25.000000          1   \n",
      "13  14       m        3  24.294118  17.000000  15.000000        neg   \n",
      "14  15       m        2  22.000000  27.000000  24.000000          1   \n",
      "15  16       f        1  30.000000  24.000000  27.000000   positive   \n",
      "16  17     fem        2  29.000000  27.000000  23.000000          1   \n",
      "17  18       m        3  29.000000  26.000000  22.000000        pos   \n",
      "18  19       f        1  24.294118  17.000000  15.000000   negative   \n",
      "\n",
      "    new_gender  \n",
      "0            0  \n",
      "1            1  \n",
      "2            1  \n",
      "3            0  \n",
      "4            0  \n",
      "5            1  \n",
      "6            0  \n",
      "7            1  \n",
      "8            0  \n",
      "9            1  \n",
      "10           1  \n",
      "11           0  \n",
      "12           1  \n",
      "13           0  \n",
      "14           0  \n",
      "15           1  \n",
      "16           1  \n",
      "17           0  \n",
      "18           1  \n"
     ]
    }
   ],
   "source": [
    "print(students)"
   ]
  },
  {
   "cell_type": "code",
   "execution_count": 40,
   "metadata": {},
   "outputs": [],
   "source": [
    "students['new_fres'] = students.fres.apply(lambda element: element.replace('negative', '0') ) \n",
    "students['new_fres'] = students.new_fres.apply(lambda element: element.replace('neg', '0') )\n",
    "students['new_fres'] = students.new_fres.apply(lambda element: element.replace('positive', '1') )\n",
    "students['new_fres'] = students.new_fres.apply(lambda element: element.replace('pos', '1') )"
   ]
  },
  {
   "cell_type": "code",
   "execution_count": 41,
   "metadata": {},
   "outputs": [
    {
     "name": "stdout",
     "output_type": "stream",
     "text": [
      "    ID  gender  subject      mark1      mark2      mark3       fres  \\\n",
      "0    1      mm        1  17.000000  20.000000  15.000000        neg   \n",
      "1    2       f        2  24.000000  30.000000  23.000000        pos   \n",
      "2    3  FEMale        1  17.000000  16.000000  22.222222          0   \n",
      "3    4    male        3  27.000000  23.000000  21.000000          1   \n",
      "4    5       m        2  30.000000  22.000000  24.000000   positive   \n",
      "5    6       f        1  30.000000  21.000000  25.000000          1   \n",
      "6    7       m        2  23.000000  24.000000  24.000000          1   \n",
      "7    8       f        3  17.000000  23.111111  20.000000          0   \n",
      "8    9      ma        1  21.000000  24.000000  24.000000          1   \n",
      "9   10      ff        2  24.000000  25.000000  24.000000        pos   \n",
      "10  11       f        2  24.000000  22.000000  25.000000        pos   \n",
      "11  12       m        1  25.000000  27.000000  24.000000          1   \n",
      "12  13       f        2  24.000000  24.000000  25.000000          1   \n",
      "13  14       m        3  24.294118  17.000000  15.000000        neg   \n",
      "14  15       m        2  22.000000  27.000000  24.000000          1   \n",
      "15  16       f        1  30.000000  24.000000  27.000000   positive   \n",
      "16  17     fem        2  29.000000  27.000000  23.000000          1   \n",
      "17  18       m        3  29.000000  26.000000  22.000000        pos   \n",
      "18  19       f        1  24.294118  17.000000  15.000000   negative   \n",
      "\n",
      "    new_gender new_fres  \n",
      "0            0        0  \n",
      "1            1        1  \n",
      "2            1        0  \n",
      "3            0        1  \n",
      "4            0        1  \n",
      "5            1        1  \n",
      "6            0        1  \n",
      "7            1        0  \n",
      "8            0        1  \n",
      "9            1        1  \n",
      "10           1        1  \n",
      "11           0        1  \n",
      "12           1        1  \n",
      "13           0        0  \n",
      "14           0        1  \n",
      "15           1        1  \n",
      "16           1        1  \n",
      "17           0        1  \n",
      "18           1        0  \n"
     ]
    }
   ],
   "source": [
    "print(students)"
   ]
  },
  {
   "cell_type": "code",
   "execution_count": null,
   "metadata": {},
   "outputs": [],
   "source": []
  }
 ],
 "metadata": {
  "kernelspec": {
   "display_name": "Python 3",
   "language": "python",
   "name": "python3"
  },
  "language_info": {
   "codemirror_mode": {
    "name": "ipython",
    "version": 3
   },
   "file_extension": ".py",
   "mimetype": "text/x-python",
   "name": "python",
   "nbconvert_exporter": "python",
   "pygments_lexer": "ipython3",
   "version": "3.7.3"
  }
 },
 "nbformat": 4,
 "nbformat_minor": 2
}
