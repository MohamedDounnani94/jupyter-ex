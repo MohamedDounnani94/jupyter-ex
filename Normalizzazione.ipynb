{
 "cells": [
  {
   "cell_type": "code",
   "execution_count": 1,
   "metadata": {},
   "outputs": [],
   "source": [
    "import pandas as pd\n",
    "import numpy as np"
   ]
  },
  {
   "cell_type": "code",
   "execution_count": null,
   "metadata": {},
   "outputs": [],
   "source": [
    "np.random.seed(12)"
   ]
  },
  {
   "cell_type": "code",
   "execution_count": 2,
   "metadata": {},
   "outputs": [],
   "source": [
    "df = pd.DataFrame(np.random.randint(200, size=(10,6)))"
   ]
  },
  {
   "cell_type": "code",
   "execution_count": 3,
   "metadata": {},
   "outputs": [
    {
     "name": "stdout",
     "output_type": "stream",
     "text": [
      "     0    1    2    3    4    5\n",
      "0   20   52   16   41  131   68\n",
      "1   44   48   48   56   92  178\n",
      "2  182  199   37   84  110   80\n",
      "3  169   23   33    5   77  177\n",
      "4    9   21  186   97  160    6\n",
      "5    4  147  128  157  108  180\n",
      "6   66   19   56   71  121  127\n",
      "7   57   64  183   86   41   38\n",
      "8  143  133  105   64  152   72\n",
      "9   39   30   51  139   37  148\n"
     ]
    }
   ],
   "source": [
    "print(df)"
   ]
  },
  {
   "cell_type": "code",
   "execution_count": 4,
   "metadata": {},
   "outputs": [],
   "source": [
    "df_norm = (df - df.min()) / (df.max() - df.min())"
   ]
  },
  {
   "cell_type": "code",
   "execution_count": 5,
   "metadata": {},
   "outputs": [
    {
     "name": "stdout",
     "output_type": "stream",
     "text": [
      "          0         1         2         3         4         5\n",
      "0  0.089888  0.183333  0.000000  0.236842  0.764228  0.356322\n",
      "1  0.224719  0.161111  0.188235  0.335526  0.447154  0.988506\n",
      "2  1.000000  1.000000  0.123529  0.519737  0.593496  0.425287\n",
      "3  0.926966  0.022222  0.100000  0.000000  0.325203  0.982759\n",
      "4  0.028090  0.011111  1.000000  0.605263  1.000000  0.000000\n",
      "5  0.000000  0.711111  0.658824  1.000000  0.577236  1.000000\n",
      "6  0.348315  0.000000  0.235294  0.434211  0.682927  0.695402\n",
      "7  0.297753  0.250000  0.982353  0.532895  0.032520  0.183908\n",
      "8  0.780899  0.633333  0.523529  0.388158  0.934959  0.379310\n",
      "9  0.196629  0.061111  0.205882  0.881579  0.000000  0.816092\n"
     ]
    }
   ],
   "source": [
    "print(df_norm)"
   ]
  },
  {
   "cell_type": "code",
   "execution_count": 6,
   "metadata": {},
   "outputs": [],
   "source": [
    "from sklearn import preprocessing"
   ]
  },
  {
   "cell_type": "code",
   "execution_count": 7,
   "metadata": {},
   "outputs": [
    {
     "name": "stderr",
     "output_type": "stream",
     "text": [
      "/home/mohameddounnani/anaconda3/lib/python3.7/site-packages/ipykernel_launcher.py:1: DataConversionWarning: Data with input dtype int64 were all converted to float64 by the scale function.\n",
      "  \"\"\"Entry point for launching an IPython kernel.\n"
     ]
    },
    {
     "data": {
      "text/plain": [
       "array([[-0.84312543, -0.35967843, -1.15145635, -0.9241291 ,  0.70628658,\n",
       "        -0.65862349],\n",
       "       [-0.46348171, -0.42628555, -0.61197461, -0.56869483, -0.27396881,\n",
       "         1.18017306],\n",
       "       [ 1.71946969,  2.08813312, -0.79742146,  0.09478247,  0.17845675,\n",
       "        -0.4580275 ],\n",
       "       [ 1.51382934, -0.84258003, -0.86485668, -1.77717135, -0.65099012,\n",
       "         1.16345672],\n",
       "       [-1.01712881, -0.87588359,  1.71454043,  0.40282551,  1.43519443,\n",
       "        -1.69503609],\n",
       "       [-1.09622125,  1.2222406 ,  0.73672976,  1.82456259,  0.12818724,\n",
       "         1.21360572],\n",
       "       [-0.11547497, -0.90918715, -0.47710417, -0.21326056,  0.45493904,\n",
       "         0.32764011],\n",
       "       [-0.25784136, -0.15985708,  1.66396401,  0.14217371, -1.55584125,\n",
       "        -1.16011346],\n",
       "       [ 1.10254864,  0.98911569,  0.34897726, -0.37912989,  1.2341164 ,\n",
       "        -0.59175816],\n",
       "       [-0.54257415, -0.72601757, -0.56139819,  1.39804146, -1.65638026,\n",
       "         0.67868309]])"
      ]
     },
     "execution_count": 7,
     "metadata": {},
     "output_type": "execute_result"
    }
   ],
   "source": [
    "preprocessing.scale(df)"
   ]
  },
  {
   "cell_type": "code",
   "execution_count": 11,
   "metadata": {},
   "outputs": [],
   "source": [
    "df_scalar = preprocessing.MinMaxScaler(feature_range = (0, 1))"
   ]
  },
  {
   "cell_type": "code",
   "execution_count": 15,
   "metadata": {},
   "outputs": [
    {
     "name": "stderr",
     "output_type": "stream",
     "text": [
      "/home/mohameddounnani/anaconda3/lib/python3.7/site-packages/sklearn/preprocessing/data.py:334: DataConversionWarning: Data with input dtype int64 were all converted to float64 by MinMaxScaler.\n",
      "  return self.partial_fit(X, y)\n"
     ]
    }
   ],
   "source": [
    "df_scaled = df_scalar.fit_transform(df)"
   ]
  },
  {
   "cell_type": "code",
   "execution_count": 16,
   "metadata": {},
   "outputs": [
    {
     "data": {
      "text/plain": [
       "array([[0.08988764, 0.18333333, 0.        , 0.23684211, 0.76422764,\n",
       "        0.35632184],\n",
       "       [0.2247191 , 0.16111111, 0.18823529, 0.33552632, 0.44715447,\n",
       "        0.98850575],\n",
       "       [1.        , 1.        , 0.12352941, 0.51973684, 0.59349593,\n",
       "        0.42528736],\n",
       "       [0.92696629, 0.02222222, 0.1       , 0.        , 0.32520325,\n",
       "        0.98275862],\n",
       "       [0.02808989, 0.01111111, 1.        , 0.60526316, 1.        ,\n",
       "        0.        ],\n",
       "       [0.        , 0.71111111, 0.65882353, 1.        , 0.57723577,\n",
       "        1.        ],\n",
       "       [0.34831461, 0.        , 0.23529412, 0.43421053, 0.68292683,\n",
       "        0.6954023 ],\n",
       "       [0.29775281, 0.25      , 0.98235294, 0.53289474, 0.03252033,\n",
       "        0.18390805],\n",
       "       [0.78089888, 0.63333333, 0.52352941, 0.38815789, 0.93495935,\n",
       "        0.37931034],\n",
       "       [0.19662921, 0.06111111, 0.20588235, 0.88157895, 0.        ,\n",
       "        0.81609195]])"
      ]
     },
     "execution_count": 16,
     "metadata": {},
     "output_type": "execute_result"
    }
   ],
   "source": [
    "df_scaled"
   ]
  },
  {
   "cell_type": "code",
   "execution_count": 18,
   "metadata": {},
   "outputs": [],
   "source": [
    "import matplotlib as mpl\n",
    "import matplotlib.pyplot as plt\n",
    "%matplotlib inline"
   ]
  },
  {
   "cell_type": "code",
   "execution_count": 19,
   "metadata": {},
   "outputs": [
    {
     "data": {
      "text/plain": [
       "{'whiskers': [<matplotlib.lines.Line2D at 0x7f10148d3ba8>,\n",
       "  <matplotlib.lines.Line2D at 0x7f10148d3ef0>,\n",
       "  <matplotlib.lines.Line2D at 0x7f1014877390>,\n",
       "  <matplotlib.lines.Line2D at 0x7f10148776d8>,\n",
       "  <matplotlib.lines.Line2D at 0x7f1014880ac8>,\n",
       "  <matplotlib.lines.Line2D at 0x7f1014880e10>,\n",
       "  <matplotlib.lines.Line2D at 0x7f101488af60>,\n",
       "  <matplotlib.lines.Line2D at 0x7f1014894588>,\n",
       "  <matplotlib.lines.Line2D at 0x7f101489e978>,\n",
       "  <matplotlib.lines.Line2D at 0x7f101489ecc0>,\n",
       "  <matplotlib.lines.Line2D at 0x7f10148a9e10>,\n",
       "  <matplotlib.lines.Line2D at 0x7f1014832438>],\n",
       " 'caps': [<matplotlib.lines.Line2D at 0x7f10148d3f98>,\n",
       "  <matplotlib.lines.Line2D at 0x7f10148e95c0>,\n",
       "  <matplotlib.lines.Line2D at 0x7f1014877a20>,\n",
       "  <matplotlib.lines.Line2D at 0x7f1014877d68>,\n",
       "  <matplotlib.lines.Line2D at 0x7f1014880eb8>,\n",
       "  <matplotlib.lines.Line2D at 0x7f101488a4e0>,\n",
       "  <matplotlib.lines.Line2D at 0x7f10148948d0>,\n",
       "  <matplotlib.lines.Line2D at 0x7f1014894c18>,\n",
       "  <matplotlib.lines.Line2D at 0x7f101489ed68>,\n",
       "  <matplotlib.lines.Line2D at 0x7f10148a9390>,\n",
       "  <matplotlib.lines.Line2D at 0x7f1014832780>,\n",
       "  <matplotlib.lines.Line2D at 0x7f1014832ac8>],\n",
       " 'boxes': [<matplotlib.lines.Line2D at 0x7f10148d3780>,\n",
       "  <matplotlib.lines.Line2D at 0x7f10148e9fd0>,\n",
       "  <matplotlib.lines.Line2D at 0x7f1014880780>,\n",
       "  <matplotlib.lines.Line2D at 0x7f101488aeb8>,\n",
       "  <matplotlib.lines.Line2D at 0x7f101489e630>,\n",
       "  <matplotlib.lines.Line2D at 0x7f10148a9d68>],\n",
       " 'medians': [<matplotlib.lines.Line2D at 0x7f10148e9908>,\n",
       "  <matplotlib.lines.Line2D at 0x7f1014877e10>,\n",
       "  <matplotlib.lines.Line2D at 0x7f101488a828>,\n",
       "  <matplotlib.lines.Line2D at 0x7f1014894f60>,\n",
       "  <matplotlib.lines.Line2D at 0x7f10148a96d8>,\n",
       "  <matplotlib.lines.Line2D at 0x7f1014832e10>],\n",
       " 'fliers': [<matplotlib.lines.Line2D at 0x7f10148e9c50>,\n",
       "  <matplotlib.lines.Line2D at 0x7f1014880438>,\n",
       "  <matplotlib.lines.Line2D at 0x7f101488ab70>,\n",
       "  <matplotlib.lines.Line2D at 0x7f101489e2e8>,\n",
       "  <matplotlib.lines.Line2D at 0x7f10148a9a20>,\n",
       "  <matplotlib.lines.Line2D at 0x7f1014832eb8>],\n",
       " 'means': []}"
      ]
     },
     "execution_count": 19,
     "metadata": {},
     "output_type": "execute_result"
    },
    {
     "data": {
      "image/png": "[encoded data removed]",
      "text/plain": [
       "<Figure size 432x288 with 1 Axes>"
      ]
     },
     "metadata": {
      "needs_background": "light"
     },
     "output_type": "display_data"
    }
   ],
   "source": [
    "plt.boxplot(df_scaled)"
   ]
  },
  {
   "cell_type": "code",
   "execution_count": null,
   "metadata": {},
   "outputs": [],
   "source": []
  }
 ],
 "metadata": {
  "kernelspec": {
   "display_name": "Python 3",
   "language": "python",
   "name": "python3"
  },
  "language_info": {
   "codemirror_mode": {
    "name": "ipython",
    "version": 3
   },
   "file_extension": ".py",
   "mimetype": "text/x-python",
   "name": "python",
   "nbconvert_exporter": "python",
   "pygments_lexer": "ipython3",
   "version": "3.7.3"
  }
 },
 "nbformat": 4,
 "nbformat_minor": 2
}
